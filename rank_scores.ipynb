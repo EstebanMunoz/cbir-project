{
 "cells": [
  {
   "cell_type": "code",
   "execution_count": 1,
   "metadata": {},
   "outputs": [],
   "source": [
    "from image_retrieval import average_normalized_rank"
   ]
  },
  {
   "cell_type": "code",
   "execution_count": 2,
   "metadata": {},
   "outputs": [
    {
     "name": "stderr",
     "output_type": "stream",
     "text": [
      "c:\\Users\\esteb\\Documents\\Codes\\cbir-project\\handcrafted_model.py:30: ConvergenceWarning: Number of distinct clusters (12) found smaller than n_clusters (64). Possibly due to duplicate points in X.\n",
      "  kmeans = KMeans(n_clusters=num_colors, random_state=seed).fit(reshaped_colors)\n",
      "c:\\Users\\esteb\\Documents\\Codes\\cbir-project\\handcrafted_model.py:30: ConvergenceWarning: Number of distinct clusters (55) found smaller than n_clusters (64). Possibly due to duplicate points in X.\n",
      "  kmeans = KMeans(n_clusters=num_colors, random_state=seed).fit(reshaped_colors)\n",
      "c:\\Users\\esteb\\Documents\\Codes\\cbir-project\\handcrafted_model.py:30: ConvergenceWarning: Number of distinct clusters (34) found smaller than n_clusters (64). Possibly due to duplicate points in X.\n",
      "  kmeans = KMeans(n_clusters=num_colors, random_state=seed).fit(reshaped_colors)\n"
     ]
    }
   ],
   "source": [
    "normalized_rank_handcrafted_holidays = average_normalized_rank(\"src/holidays_dataset/query_imgs/\", \"holidays\", \"handcrafted\")"
   ]
  },
  {
   "cell_type": "code",
   "execution_count": 51,
   "metadata": {},
   "outputs": [],
   "source": [
    "normalized_rank_handcrafted_GPR1200 = average_normalized_rank(\"src/GPR1200_dataset/\", \"GPR1200\", \"handcrafted\")"
   ]
  },
  {
   "cell_type": "code",
   "execution_count": 53,
   "metadata": {},
   "outputs": [],
   "source": [
    "normalized_rank_cnn_holidays = average_normalized_rank(\"src/holidays_dataset/query_imgs/\", \"holidays\", \"cnn\")"
   ]
  },
  {
   "cell_type": "code",
   "execution_count": 54,
   "metadata": {},
   "outputs": [],
   "source": [
    "normalized_rank_cnn_GPR1200 = average_normalized_rank(\"src/GPR1200_dataset/\", \"GPR1200\", \"cnn\")"
   ]
  },
  {
   "cell_type": "code",
   "execution_count": 56,
   "metadata": {},
   "outputs": [
    {
     "name": "stdout",
     "output_type": "stream",
     "text": [
      "Average Normalized Rank\n",
      "Holidays Handcrafted: 0.4596263149004824\n",
      "GPR1200 Handcrafted: 0.40176021805555556\n",
      "Holidays cnn: 0.014775269052060171\n",
      "GPR1200 cnn: 0.040245168055555565\n"
     ]
    }
   ],
   "source": [
    "print(\"Average Normalized Rank\")\n",
    "print(f\"Holidays Handcrafted: {normalized_rank_handcrafted_holidays}\")\n",
    "print(f\"GPR1200 Handcrafted: {normalized_rank_handcrafted_GPR1200}\")\n",
    "print(f\"Holidays cnn: {normalized_rank_cnn_holidays}\")\n",
    "print(f\"GPR1200 cnn: {normalized_rank_cnn_GPR1200}\")"
   ]
  }
 ],
 "metadata": {
  "kernelspec": {
   "display_name": "env",
   "language": "python",
   "name": "python3"
  },
  "language_info": {
   "codemirror_mode": {
    "name": "ipython",
    "version": 3
   },
   "file_extension": ".py",
   "mimetype": "text/x-python",
   "name": "python",
   "nbconvert_exporter": "python",
   "pygments_lexer": "ipython3",
   "version": "3.10.9 (tags/v3.10.9:1dd9be6, Dec  6 2022, 20:01:21) [MSC v.1934 64 bit (AMD64)]"
  },
  "orig_nbformat": 4,
  "vscode": {
   "interpreter": {
    "hash": "050d619bf720326528bbb51018fefd12a720355502c52b2fea0c7b2a9390ee52"
   }
  }
 },
 "nbformat": 4,
 "nbformat_minor": 2
}
